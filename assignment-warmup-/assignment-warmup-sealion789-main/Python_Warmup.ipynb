{
  "nbformat": 4,
  "nbformat_minor": 0,
  "metadata": {
    "kernelspec": {
      "display_name": "Python [conda env:mie451-warmup]",
      "language": "python",
      "name": "conda-env-mie451-warmup-py"
    },
    "language_info": {
      "codemirror_mode": {
        "name": "ipython",
        "version": 3
      },
      "file_extension": ".py",
      "mimetype": "text/x-python",
      "name": "python",
      "nbconvert_exporter": "python",
      "pygments_lexer": "ipython3",
      "version": "3.6.6"
    },
    "colab": {
      "name": "Python_Warmup_2022.ipynb",
      "provenance": [],
      "collapsed_sections": []
    }
  },
  "cells": [
    {
      "cell_type": "markdown",
      "metadata": {
        "id": "4L1Vk_YhUVSO"
      },
      "source": [
        "# Assignment - Python Warmup\n",
        "Please follow the instructions in the assignment's PDF and fill in the code for each function."
      ]
    },
    {
      "cell_type": "markdown",
      "source": [
        "Submission Peiyao Li 1000674371 Jan 23"
      ],
      "metadata": {
        "id": "srSrmkN4y8t3"
      }
    },
    {
      "cell_type": "markdown",
      "metadata": {
        "id": "K2wlQJ1RUVSQ"
      },
      "source": [
        "## Exercise 1"
      ]
    },
    {
      "cell_type": "code",
      "metadata": {
        "id": "LRYjSAU2UVSR"
      },
      "source": [
        "def positionWord(filePath, position):\n",
        "  # Please write your code here\n",
        "  with open(filePath, \"r\") as file:\n",
        "    poemText = file.read()   \n",
        "  poemLines = poemText.splitlines()\n",
        "  final_list=[]\n",
        "  for lines in poemLines:\n",
        "    poemWords=lines.split()\n",
        "    cleanWords = [word.strip(\"\"\" ,.*()[]!@#$%^&*{}?'`\"-!()-[]{};:'\"\\,<>./?@#$%^&*_~\"\"\")for word in poemWords]\n",
        "    final_list.append(cleanWords[position])\n",
        "  return final_list"
      ],
      "execution_count": 98,
      "outputs": []
    },
    {
      "cell_type": "code",
      "source": [
        "print(positionWord(\"/content/drive/MyDrive/example.txt\", 3))"
      ],
      "metadata": {
        "colab": {
          "base_uri": "https://localhost:8080/"
        },
        "id": "uPOrv_Lt0HOh",
        "outputId": "10020949-163c-4163-9b62-be2a328ce585"
      },
      "execution_count": 99,
      "outputs": [
        {
          "output_type": "stream",
          "name": "stdout",
          "text": [
            "['in', 'Ghost', 'humour', 'or', 'one']\n"
          ]
        }
      ]
    },
    {
      "cell_type": "code",
      "source": [
        "assert(isinstance(positionWord(\"/content/drive/MyDrive/example.txt\", 2), list))"
      ],
      "metadata": {
        "id": "eYgTlV1F7ZTG"
      },
      "execution_count": 100,
      "outputs": []
    },
    {
      "cell_type": "markdown",
      "metadata": {
        "id": "SVGFSuf1UVSV"
      },
      "source": [
        "## Exercise 2"
      ]
    },
    {
      "cell_type": "code",
      "metadata": {
        "id": "aUz-S0pDUVSW"
      },
      "source": [
        "def onlyUpperCase(text):\n",
        "  # Please write your code here\n",
        "  final_string=\"\"\n",
        "  for letter in text:\n",
        "    if letter.isupper():\n",
        "      final_string += letter\n",
        "  return final_string"
      ],
      "execution_count": 101,
      "outputs": []
    },
    {
      "cell_type": "code",
      "source": [
        "onlyUpperCase(\"%^&&&lorem ipsum Dolor Sit amet, conSectetur.\")"
      ],
      "metadata": {
        "colab": {
          "base_uri": "https://localhost:8080/",
          "height": 35
        },
        "id": "U4ooF3QF3a4i",
        "outputId": "aaca67c2-dd7e-460f-a1e5-b25b72d3c0da"
      },
      "execution_count": 102,
      "outputs": [
        {
          "output_type": "execute_result",
          "data": {
            "application/vnd.google.colaboratory.intrinsic+json": {
              "type": "string"
            },
            "text/plain": [
              "'DSS'"
            ]
          },
          "metadata": {},
          "execution_count": 102
        }
      ]
    },
    {
      "cell_type": "markdown",
      "metadata": {
        "id": "z2rIx_F7UVSZ"
      },
      "source": [
        "## Exercise 3"
      ]
    },
    {
      "cell_type": "code",
      "metadata": {
        "id": "E6XvgsgmUVSa"
      },
      "source": [
        "def divisors(num1, num2):\n",
        "  final_list=[]\n",
        "  for number in range(1,(num1+1)):\n",
        "    if number%num2 ==0:\n",
        "      final_list.append(number)\n",
        "  return final_list"
      ],
      "execution_count": 103,
      "outputs": []
    },
    {
      "cell_type": "code",
      "source": [
        "divisors(4,1)"
      ],
      "metadata": {
        "colab": {
          "base_uri": "https://localhost:8080/"
        },
        "id": "0X6VTRzb32ZY",
        "outputId": "ffe0e9fe-bcea-4fa2-bef2-816781d19d3f"
      },
      "execution_count": 104,
      "outputs": [
        {
          "output_type": "execute_result",
          "data": {
            "text/plain": [
              "[1, 2, 3, 4]"
            ]
          },
          "metadata": {},
          "execution_count": 104
        }
      ]
    },
    {
      "cell_type": "markdown",
      "metadata": {
        "id": "fJEhXAtDUVSd"
      },
      "source": [
        "## Exercise 4"
      ]
    },
    {
      "cell_type": "code",
      "metadata": {
        "id": "3Cs0OgGmUVSe"
      },
      "source": [
        "def countWords(wordList):\n",
        "  # Please write your code here\n",
        "  unique=set(wordList)\n",
        "  dict={}\n",
        "  for word in unique:\n",
        "    frequency=wordList.count(word)\n",
        "    dict[word]=frequency\n",
        "  return dict"
      ],
      "execution_count": 105,
      "outputs": []
    },
    {
      "cell_type": "code",
      "source": [
        "countWords([\"the\", \"seething\", \"sea\", \"ceaseth\", \"and\", \"thus\", \"the\", \"seething\", \"sea\", \"sufficeth\", \"us\"])"
      ],
      "metadata": {
        "colab": {
          "base_uri": "https://localhost:8080/"
        },
        "id": "T7al-igO4Gqi",
        "outputId": "e174e786-4b1f-4b69-c094-a1b10bd7e503"
      },
      "execution_count": 106,
      "outputs": [
        {
          "output_type": "execute_result",
          "data": {
            "text/plain": [
              "{'and': 1,\n",
              " 'ceaseth': 1,\n",
              " 'sea': 2,\n",
              " 'seething': 2,\n",
              " 'sufficeth': 1,\n",
              " 'the': 2,\n",
              " 'thus': 1,\n",
              " 'us': 1}"
            ]
          },
          "metadata": {},
          "execution_count": 106
        }
      ]
    },
    {
      "cell_type": "markdown",
      "metadata": {
        "id": "CGC6gPENUVSh"
      },
      "source": [
        "## Exercise 5"
      ]
    },
    {
      "cell_type": "code",
      "metadata": {
        "id": "yABkiEt5UVSi"
      },
      "source": [
        "def organizedCountWords(wordList):\n",
        "  def countWords(wordList):\n",
        "    unique=set(wordList)\n",
        "    dict={}\n",
        "    for word in unique:\n",
        "      frequency=wordList.count(word)\n",
        "      dict[word]=frequency\n",
        "    return dict\n",
        "\n",
        "  final_dct={}\n",
        "  length=set()\n",
        "  unique=set(wordList)\n",
        "  for i in unique:\n",
        "    length.add(len(i))\n",
        "  for j in length:\n",
        "    list = [word for word in wordList if len(word)==j]\n",
        "    final_dct[j]=countWords(list)\n",
        "  return final_dct"
      ],
      "execution_count": 107,
      "outputs": []
    },
    {
      "cell_type": "code",
      "source": [
        "organizedCountWords( [\"the\", \"seething\", \"sea\", \"ceaseth\", \"and\", \"thus\", \"the\", \"seething\", \"sea\", \"sufficeth\", \"us\"])"
      ],
      "metadata": {
        "colab": {
          "base_uri": "https://localhost:8080/"
        },
        "id": "l7shO3Hf4bEs",
        "outputId": "091bd4e7-7fff-418d-f7a2-50b5f62c1b64"
      },
      "execution_count": 108,
      "outputs": [
        {
          "output_type": "execute_result",
          "data": {
            "text/plain": [
              "{2: {'us': 1},\n",
              " 3: {'and': 1, 'sea': 2, 'the': 2},\n",
              " 4: {'thus': 1},\n",
              " 7: {'ceaseth': 1},\n",
              " 8: {'seething': 2},\n",
              " 9: {'sufficeth': 1}}"
            ]
          },
          "metadata": {},
          "execution_count": 108
        }
      ]
    },
    {
      "cell_type": "markdown",
      "metadata": {
        "id": "tlb0ecAtUX-e"
      },
      "source": [
        "##Exercise 6"
      ]
    },
    {
      "cell_type": "code",
      "metadata": {
        "id": "FvW7BpD3UXG2"
      },
      "source": [
        "def AvgNeighbourhoodListingPrice(neighbourhoodList, room_type, number_of_reviews, minimum_nights):\n",
        "  import pandas as pd\n",
        "  url = 'https://raw.githubusercontent.com/MIE451-1513-2020/course-datasets/master/toronto_airbnb_listings_Aug2019.csv'\n",
        "  df = pd.read_csv(url, index_col=0)\n",
        "  df.head()\n",
        "\n",
        "  df=df[df.room_type==room_type]\n",
        "  df=df[df.neighbourhood.isin(neighbourhoodList)]\n",
        "  df=df[df.minimum_nights<=minimum_nights]\n",
        "  df=df[df.number_of_reviews>=number_of_reviews]\n",
        "  pd.set_option('precision', 2)\n",
        "  return df.groupby('neighbourhood').mean().loc[:,['price']].sort_values('price', axis=0, ascending=False)"
      ],
      "execution_count": 109,
      "outputs": []
    },
    {
      "cell_type": "code",
      "source": [
        "AvgNeighbourhoodListingPrice([\"Edenbridge-Humber Valley\", \"Annex\", \"The Beaches\"],\"Entire home/apt\",30,3)"
      ],
      "metadata": {
        "colab": {
          "base_uri": "https://localhost:8080/",
          "height": 175
        },
        "id": "Ux22GE0S4q5f",
        "outputId": "a844eb6d-0869-48a4-b6b7-a817afdd63f6"
      },
      "execution_count": 110,
      "outputs": [
        {
          "output_type": "execute_result",
          "data": {
            "text/html": [
              "\n",
              "  <div id=\"df-4546cfd2-cf52-4f42-a8cb-e39f6409c487\">\n",
              "    <div class=\"colab-df-container\">\n",
              "      <div>\n",
              "<style scoped>\n",
              "    .dataframe tbody tr th:only-of-type {\n",
              "        vertical-align: middle;\n",
              "    }\n",
              "\n",
              "    .dataframe tbody tr th {\n",
              "        vertical-align: top;\n",
              "    }\n",
              "\n",
              "    .dataframe thead th {\n",
              "        text-align: right;\n",
              "    }\n",
              "</style>\n",
              "<table border=\"1\" class=\"dataframe\">\n",
              "  <thead>\n",
              "    <tr style=\"text-align: right;\">\n",
              "      <th></th>\n",
              "      <th>price</th>\n",
              "    </tr>\n",
              "    <tr>\n",
              "      <th>neighbourhood</th>\n",
              "      <th></th>\n",
              "    </tr>\n",
              "  </thead>\n",
              "  <tbody>\n",
              "    <tr>\n",
              "      <th>Edenbridge-Humber Valley</th>\n",
              "      <td>453.33</td>\n",
              "    </tr>\n",
              "    <tr>\n",
              "      <th>Annex</th>\n",
              "      <td>141.99</td>\n",
              "    </tr>\n",
              "    <tr>\n",
              "      <th>The Beaches</th>\n",
              "      <td>126.24</td>\n",
              "    </tr>\n",
              "  </tbody>\n",
              "</table>\n",
              "</div>\n",
              "      <button class=\"colab-df-convert\" onclick=\"convertToInteractive('df-4546cfd2-cf52-4f42-a8cb-e39f6409c487')\"\n",
              "              title=\"Convert this dataframe to an interactive table.\"\n",
              "              style=\"display:none;\">\n",
              "        \n",
              "  <svg xmlns=\"http://www.w3.org/2000/svg\" height=\"24px\"viewBox=\"0 0 24 24\"\n",
              "       width=\"24px\">\n",
              "    <path d=\"M0 0h24v24H0V0z\" fill=\"none\"/>\n",
              "    <path d=\"M18.56 5.44l.94 2.06.94-2.06 2.06-.94-2.06-.94-.94-2.06-.94 2.06-2.06.94zm-11 1L8.5 8.5l.94-2.06 2.06-.94-2.06-.94L8.5 2.5l-.94 2.06-2.06.94zm10 10l.94 2.06.94-2.06 2.06-.94-2.06-.94-.94-2.06-.94 2.06-2.06.94z\"/><path d=\"M17.41 7.96l-1.37-1.37c-.4-.4-.92-.59-1.43-.59-.52 0-1.04.2-1.43.59L10.3 9.45l-7.72 7.72c-.78.78-.78 2.05 0 2.83L4 21.41c.39.39.9.59 1.41.59.51 0 1.02-.2 1.41-.59l7.78-7.78 2.81-2.81c.8-.78.8-2.07 0-2.86zM5.41 20L4 18.59l7.72-7.72 1.47 1.35L5.41 20z\"/>\n",
              "  </svg>\n",
              "      </button>\n",
              "      \n",
              "  <style>\n",
              "    .colab-df-container {\n",
              "      display:flex;\n",
              "      flex-wrap:wrap;\n",
              "      gap: 12px;\n",
              "    }\n",
              "\n",
              "    .colab-df-convert {\n",
              "      background-color: #E8F0FE;\n",
              "      border: none;\n",
              "      border-radius: 50%;\n",
              "      cursor: pointer;\n",
              "      display: none;\n",
              "      fill: #1967D2;\n",
              "      height: 32px;\n",
              "      padding: 0 0 0 0;\n",
              "      width: 32px;\n",
              "    }\n",
              "\n",
              "    .colab-df-convert:hover {\n",
              "      background-color: #E2EBFA;\n",
              "      box-shadow: 0px 1px 2px rgba(60, 64, 67, 0.3), 0px 1px 3px 1px rgba(60, 64, 67, 0.15);\n",
              "      fill: #174EA6;\n",
              "    }\n",
              "\n",
              "    [theme=dark] .colab-df-convert {\n",
              "      background-color: #3B4455;\n",
              "      fill: #D2E3FC;\n",
              "    }\n",
              "\n",
              "    [theme=dark] .colab-df-convert:hover {\n",
              "      background-color: #434B5C;\n",
              "      box-shadow: 0px 1px 3px 1px rgba(0, 0, 0, 0.15);\n",
              "      filter: drop-shadow(0px 1px 2px rgba(0, 0, 0, 0.3));\n",
              "      fill: #FFFFFF;\n",
              "    }\n",
              "  </style>\n",
              "\n",
              "      <script>\n",
              "        const buttonEl =\n",
              "          document.querySelector('#df-4546cfd2-cf52-4f42-a8cb-e39f6409c487 button.colab-df-convert');\n",
              "        buttonEl.style.display =\n",
              "          google.colab.kernel.accessAllowed ? 'block' : 'none';\n",
              "\n",
              "        async function convertToInteractive(key) {\n",
              "          const element = document.querySelector('#df-4546cfd2-cf52-4f42-a8cb-e39f6409c487');\n",
              "          const dataTable =\n",
              "            await google.colab.kernel.invokeFunction('convertToInteractive',\n",
              "                                                     [key], {});\n",
              "          if (!dataTable) return;\n",
              "\n",
              "          const docLinkHtml = 'Like what you see? Visit the ' +\n",
              "            '<a target=\"_blank\" href=https://colab.research.google.com/notebooks/data_table.ipynb>data table notebook</a>'\n",
              "            + ' to learn more about interactive tables.';\n",
              "          element.innerHTML = '';\n",
              "          dataTable['output_type'] = 'display_data';\n",
              "          await google.colab.output.renderOutput(dataTable, element);\n",
              "          const docLink = document.createElement('div');\n",
              "          docLink.innerHTML = docLinkHtml;\n",
              "          element.appendChild(docLink);\n",
              "        }\n",
              "      </script>\n",
              "    </div>\n",
              "  </div>\n",
              "  "
            ],
            "text/plain": [
              "                           price\n",
              "neighbourhood                   \n",
              "Edenbridge-Humber Valley  453.33\n",
              "Annex                     141.99\n",
              "The Beaches               126.24"
            ]
          },
          "metadata": {},
          "execution_count": 110
        }
      ]
    },
    {
      "cell_type": "markdown",
      "metadata": {
        "id": "cxMjcYPrjkZL"
      },
      "source": [
        "## Exercise 7"
      ]
    },
    {
      "cell_type": "code",
      "metadata": {
        "id": "xRjMh_EjjnYM"
      },
      "source": [
        "def leastSquaresFit(urlX,urlY):\n",
        "  # Please write your code here\n",
        "  from pandas import read_csv\n",
        "  import numpy as np\n",
        "  dfx = read_csv(urlX)\n",
        "  X=np.asarray(dfx)\n",
        "  dfy = read_csv(urlY)\n",
        "  y=np.asarray(dfy)\n",
        "  w=np.linalg.inv((X.T@X))@X.T@y\n",
        "  return w\n"
      ],
      "execution_count": 111,
      "outputs": []
    },
    {
      "cell_type": "code",
      "source": [
        "URLX= \"https://raw.githubusercontent.com/MIE451-1513-2020/course-datasets/master/X.csv\"\n",
        "URLy=\"https://raw.githubusercontent.com/MIE451-1513-2020/course-datasets/master/Y.csv\"\n",
        "leastSquaresFit(URLX,URLy)"
      ],
      "metadata": {
        "colab": {
          "base_uri": "https://localhost:8080/"
        },
        "id": "IHR4Cf124wVq",
        "outputId": "5f6f7c97-f5e2-4315-96a8-69548ca9ea12"
      },
      "execution_count": 112,
      "outputs": [
        {
          "output_type": "execute_result",
          "data": {
            "text/plain": [
              "array([[78.58190416],\n",
              "       [68.68373767],\n",
              "       [66.40200107]])"
            ]
          },
          "metadata": {},
          "execution_count": 112
        }
      ]
    },
    {
      "cell_type": "markdown",
      "metadata": {
        "id": "4BVZJpHKUVSk"
      },
      "source": [
        "----------\n",
        "## Validators\n",
        "This following cell provide basic validation of your functions.\n",
        "\n",
        "You should run each cell and make sure you do not get an exception.\n",
        "\n",
        "**IMPORTANT: passing these validators does not mean your code is correct. These are basic validators to make sure the interface of your functions is correct.**"
      ]
    },
    {
      "cell_type": "code",
      "metadata": {
        "id": "ciHXaur-UVSk"
      },
      "source": [
        "assert(isinstance(positionWord(\"/content/drive/MyDrive/example.txt\", 2), list))"
      ],
      "execution_count": 114,
      "outputs": []
    },
    {
      "cell_type": "code",
      "metadata": {
        "id": "j7V9yRrQUVSm"
      },
      "source": [
        "assert(isinstance(onlyUpperCase(\"lorem ipsum Dolor Sit amet, conSectetur.\"), str))"
      ],
      "execution_count": null,
      "outputs": []
    },
    {
      "cell_type": "code",
      "metadata": {
        "id": "xEW8K0GKUVSo"
      },
      "source": [
        "assert(isinstance(divisors(23, 6), list))"
      ],
      "execution_count": null,
      "outputs": []
    },
    {
      "cell_type": "code",
      "metadata": {
        "id": "oo1YSY-GUVSq"
      },
      "source": [
        "words = [\"the\", \"seething\", \"sea\", \"ceaseth\", \"and\", \"thus\", \"the\", \"seething\", \"sea\", \"sufficeth\", \"us\"]\n",
        "assert(isinstance(countWords(words), dict))"
      ],
      "execution_count": null,
      "outputs": []
    },
    {
      "cell_type": "code",
      "metadata": {
        "id": "FFbsU1TuUVSr"
      },
      "source": [
        "words = [\"the\", \"seething\", \"sea\", \"ceaseth\", \"and\", \"thus\", \"the\", \"seething\", \"sea\", \"sufficeth\", \"us\"]\n",
        "assert(isinstance(organizedCountWords(words), dict))"
      ],
      "execution_count": null,
      "outputs": []
    },
    {
      "cell_type": "code",
      "metadata": {
        "id": "ws_ZzLA0W1Qp"
      },
      "source": [
        "df = AvgNeighbourhoodListingPrice([\"Little Portugal\",\"Waterfront Communities-The Island\",\"Rosedale-Moore Park\",\"Kensington-Chinatown\"], \"Private room\", 50, 4)\n",
        "assert(df.shape == (4,1))"
      ],
      "execution_count": null,
      "outputs": []
    },
    {
      "cell_type": "code",
      "metadata": {
        "id": "jJdtrJvurNcl"
      },
      "source": [
        "import numpy as np \n",
        "w = leastSquaresFit(\"https://raw.githubusercontent.com/MIE451-2021/course-datasets/master/X.csv\",\"https://raw.githubusercontent.com/MIE451-2021/course-datasets/master/Y.csv\")\n",
        "assert(isinstance(w, np.ndarray))"
      ],
      "execution_count": null,
      "outputs": []
    },
    {
      "cell_type": "code",
      "metadata": {
        "id": "dZNBA8Y6g602"
      },
      "source": [
        "import pandas as pd\n",
        "assert(isinstance(df,pd.DataFrame))"
      ],
      "execution_count": null,
      "outputs": []
    }
  ]
}